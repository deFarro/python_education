{
 "cells": [
  {
   "cell_type": "code",
   "execution_count": 1,
   "metadata": {},
   "outputs": [],
   "source": [
    "import pandas\n",
    "import numpy\n",
    "import os\n",
    "\n",
    "names_path = os.getcwd() + '/names/yob'"
   ]
  },
  {
   "cell_type": "code",
   "execution_count": 2,
   "metadata": {},
   "outputs": [
    {
     "data": {
      "text/plain": [
       "['Michael', 'James', 'John']"
      ]
     },
     "execution_count": 2,
     "metadata": {},
     "output_type": "execute_result"
    }
   ],
   "source": [
    "def count_top3(names):\n",
    "    cols = ['Name','Gender','Count']\n",
    "    combined = pandas.DataFrame()\n",
    "    for year in names:\n",
    "        year_to_add = pandas.read_csv(names_path + year + '.txt', names=cols)\n",
    "        if combined.empty:\n",
    "            combined = year_to_add\n",
    "        else:\n",
    "            combined = pandas.concat([combined, year_to_add]).groupby(['Name', 'Gender'], as_index=False)[\"Count\"].sum()\n",
    "    top = combined.sort_values(by='Count', ascending=False).head(3)\n",
    "    return [row[0] for row in top.values]\n",
    "            \n",
    "result = count_top3(['2001', '2002', '1950', '1955', '1960'])\n",
    "result"
   ]
  },
  {
   "cell_type": "code",
   "execution_count": 3,
   "metadata": {},
   "outputs": [
    {
     "data": {
      "text/plain": [
       "{'F': [1713259, 2022104, 1748270, 1660152, 1897940],\n",
       " 'M': [1790871, 2132705, 1859528, 1784266, 2052780]}"
      ]
     },
     "execution_count": 3,
     "metadata": {},
     "output_type": "execute_result"
    }
   ],
   "source": [
    "def count_dynamics(names):\n",
    "    cols = ['Name','Gender','Count']\n",
    "    f, m = [], []\n",
    "    result = []\n",
    "    for year in names:\n",
    "        data = pandas.read_csv(names_path + year + '.txt', names=cols).groupby('Gender')\n",
    "        f.append(data.sum().at['F', 'Count'])\n",
    "        m.append(data.sum().at['M', 'Count'])\n",
    "    return {'F': f, 'M': m}\n",
    "\n",
    "result = count_dynamics(['1950', '1960', '1970', '1980', '1990'])\n",
    "result"
   ]
  }
 ],
 "metadata": {
  "kernelspec": {
   "display_name": "Python 3",
   "language": "python",
   "name": "python3"
  },
  "language_info": {
   "codemirror_mode": {
    "name": "ipython",
    "version": 3
   },
   "file_extension": ".py",
   "mimetype": "text/x-python",
   "name": "python",
   "nbconvert_exporter": "python",
   "pygments_lexer": "ipython3",
   "version": "3.6.4"
  }
 },
 "nbformat": 4,
 "nbformat_minor": 2
}
