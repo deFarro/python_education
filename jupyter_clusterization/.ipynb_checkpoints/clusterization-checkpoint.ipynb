{
 "cells": [
  {
   "cell_type": "code",
   "execution_count": 201,
   "metadata": {},
   "outputs": [],
   "source": [
    "import requests\n",
    "import random\n",
    "import pandas as pd\n",
    "import numpy as np\n",
    "import matplotlib.pyplot as plt\n",
    "from scipy.cluster.vq import whiten, kmeans2\n",
    "\n",
    "%matplotlib inline"
   ]
  },
  {
   "cell_type": "code",
   "execution_count": 202,
   "metadata": {},
   "outputs": [],
   "source": [
    "api_link = 'http://api.football-data.org/v1/teams/'\n",
    "token = str()\n",
    "with open('.token.txt') as file:\n",
    "    token = file.read()\n",
    "\n",
    "api_params = {\n",
    "    'X-Auth-Token': token.rstrip(),\n",
    "}"
   ]
  },
  {
   "cell_type": "code",
   "execution_count": 203,
   "metadata": {},
   "outputs": [],
   "source": [
    "def get_team_stats(team_id, name):\n",
    "    losts = 0\n",
    "    wins = 0\n",
    "    goals_made = 0\n",
    "    goals_got = 0\n",
    "    res = requests.get(api_link + str(team_id) + '/fixtures', headers=api_params)\n",
    "    data = res.json()\n",
    "    for game in data['fixtures']:\n",
    "        if game['status'] != 'FINISHED':\n",
    "            continue\n",
    "        if game['homeTeamName'] == name:\n",
    "            goals_made += game['result']['goalsHomeTeam']\n",
    "            goals_got += game['result']['goalsAwayTeam']\n",
    "            if game['result']['goalsHomeTeam'] > game['result']['goalsAwayTeam']:\n",
    "                wins = wins + 1\n",
    "            elif game['result']['goalsHomeTeam'] < game['result']['goalsAwayTeam']:\n",
    "                losts = losts + 1\n",
    "        else:\n",
    "            goals_made += game['result']['goalsAwayTeam']\n",
    "            goals_got += game['result']['goalsHomeTeam']\n",
    "            if game['result']['goalsHomeTeam'] > game['result']['goalsAwayTeam']:\n",
    "                losts = losts + 1\n",
    "            elif game['result']['goalsHomeTeam'] < game['result']['goalsAwayTeam']:\n",
    "                wins = wins + 1\n",
    "    return {'wins': wins, 'losts': losts, 'goals_made': goals_made, 'goals_got': goals_got, 'total_games': data['count']}"
   ]
  },
  {
   "cell_type": "code",
   "execution_count": 204,
   "metadata": {},
   "outputs": [],
   "source": [
    "def get_team_data(amount):\n",
    "    result = list()\n",
    "    for team_id in range(1, amount + 1):\n",
    "        res = requests.get(api_link + str(team_id), headers=api_params)\n",
    "        data = res.json()\n",
    "        if 'error' in data:\n",
    "            continue\n",
    "        if data['squadMarketValue'] == None:\n",
    "            value = random.randint(100000, 2000000)\n",
    "        else:\n",
    "            value = data['squadMarketValue']\n",
    "        stats = get_team_stats(team_id, data['name'])\n",
    "        if stats['total_games'] != 0:\n",
    "            result.append({'Name': data['name'], 'Value': value, 'Losts': stats['losts']})\n",
    "    return result"
   ]
  },
  {
   "cell_type": "code",
   "execution_count": 205,
   "metadata": {},
   "outputs": [
    {
     "data": {
      "text/html": [
       "<div>\n",
       "<style scoped>\n",
       "    .dataframe tbody tr th:only-of-type {\n",
       "        vertical-align: middle;\n",
       "    }\n",
       "\n",
       "    .dataframe tbody tr th {\n",
       "        vertical-align: top;\n",
       "    }\n",
       "\n",
       "    .dataframe thead th {\n",
       "        text-align: right;\n",
       "    }\n",
       "</style>\n",
       "<table border=\"1\" class=\"dataframe\">\n",
       "  <thead>\n",
       "    <tr style=\"text-align: right;\">\n",
       "      <th></th>\n",
       "      <th>Losts</th>\n",
       "      <th>Name</th>\n",
       "      <th>Value</th>\n",
       "    </tr>\n",
       "  </thead>\n",
       "  <tbody>\n",
       "    <tr>\n",
       "      <th>0</th>\n",
       "      <td>16</td>\n",
       "      <td>1. FC Köln</td>\n",
       "      <td>822078</td>\n",
       "    </tr>\n",
       "    <tr>\n",
       "      <th>1</th>\n",
       "      <td>11</td>\n",
       "      <td>TSG 1899 Hoffenheim</td>\n",
       "      <td>1884298</td>\n",
       "    </tr>\n",
       "    <tr>\n",
       "      <th>2</th>\n",
       "      <td>5</td>\n",
       "      <td>Bayer Leverkusen</td>\n",
       "      <td>1159353</td>\n",
       "    </tr>\n",
       "    <tr>\n",
       "      <th>3</th>\n",
       "      <td>10</td>\n",
       "      <td>Borussia Dortmund</td>\n",
       "      <td>1801092</td>\n",
       "    </tr>\n",
       "    <tr>\n",
       "      <th>4</th>\n",
       "      <td>3</td>\n",
       "      <td>FC Bayern München</td>\n",
       "      <td>1151439</td>\n",
       "    </tr>\n",
       "    <tr>\n",
       "      <th>5</th>\n",
       "      <td>6</td>\n",
       "      <td>FC Schalke 04</td>\n",
       "      <td>1064772</td>\n",
       "    </tr>\n",
       "    <tr>\n",
       "      <th>6</th>\n",
       "      <td>15</td>\n",
       "      <td>Hamburger SV</td>\n",
       "      <td>1292598</td>\n",
       "    </tr>\n",
       "    <tr>\n",
       "      <th>7</th>\n",
       "      <td>8</td>\n",
       "      <td>Hannover 96</td>\n",
       "      <td>734766</td>\n",
       "    </tr>\n",
       "    <tr>\n",
       "      <th>8</th>\n",
       "      <td>8</td>\n",
       "      <td>Hertha BSC</td>\n",
       "      <td>939799</td>\n",
       "    </tr>\n",
       "    <tr>\n",
       "      <th>9</th>\n",
       "      <td>13</td>\n",
       "      <td>VfB Stuttgart</td>\n",
       "      <td>1630732</td>\n",
       "    </tr>\n",
       "  </tbody>\n",
       "</table>\n",
       "</div>"
      ],
      "text/plain": [
       "   Losts                 Name    Value\n",
       "0     16           1. FC Köln   822078\n",
       "1     11  TSG 1899 Hoffenheim  1884298\n",
       "2      5     Bayer Leverkusen  1159353\n",
       "3     10    Borussia Dortmund  1801092\n",
       "4      3    FC Bayern München  1151439\n",
       "5      6        FC Schalke 04  1064772\n",
       "6     15         Hamburger SV  1292598\n",
       "7      8          Hannover 96   734766\n",
       "8      8           Hertha BSC   939799\n",
       "9     13        VfB Stuttgart  1630732"
      ]
     },
     "execution_count": 205,
     "metadata": {},
     "output_type": "execute_result"
    }
   ],
   "source": [
    "data = get_team_data(100)\n",
    "table = pd.DataFrame(data)\n",
    "table.head(10)"
   ]
  },
  {
   "cell_type": "code",
   "execution_count": 206,
   "metadata": {},
   "outputs": [
    {
     "data": {
      "text/plain": [
       "<matplotlib.axes._subplots.AxesSubplot at 0x61dca1780>"
      ]
     },
     "execution_count": 206,
     "metadata": {},
     "output_type": "execute_result"
    },
    {
     "data": {
      "image/png": "[encoded data removed]",
      "text/plain": [
       "<matplotlib.figure.Figure at 0x61dca15f8>"
      ]
     },
     "metadata": {},
     "output_type": "display_data"
    }
   ],
   "source": [
    "table.plot.scatter(x='Losts', y='Value')"
   ]
  },
  {
   "cell_type": "code",
   "execution_count": 207,
   "metadata": {},
   "outputs": [],
   "source": [
    "del table['Name']\n",
    "whitened = whiten(table.as_matrix())\n",
    "centroids3, cluster_map3 = kmeans2(whitened, 3)\n",
    "centroids5, cluster_map5 = kmeans2(whitened, 5)\n",
    "colors_map = {0: 'r', 1: 'g', 2: 'b', 3: 'y', 4: 'm'}\n",
    "colors3 = [colors_map[c] for c in cluster_map3]\n",
    "colors5 = [colors_map[c] for c in cluster_map5]"
   ]
  },
  {
   "cell_type": "markdown",
   "metadata": {},
   "source": [
    "3 football clubs clusters"
   ]
  },
  {
   "cell_type": "code",
   "execution_count": 208,
   "metadata": {},
   "outputs": [
    {
     "data": {
      "text/plain": [
       "<matplotlib.axes._subplots.AxesSubplot at 0x614dcc320>"
      ]
     },
     "execution_count": 208,
     "metadata": {},
     "output_type": "execute_result"
    },
    {
     "data": {
      "image/png": "[encoded data removed]",
      "text/plain": [
       "<matplotlib.figure.Figure at 0x61db1b2e8>"
      ]
     },
     "metadata": {},
     "output_type": "display_data"
    }
   ],
   "source": [
    "table.plot.scatter(x='Losts', y='Value', c=colors3)"
   ]
  },
  {
   "cell_type": "markdown",
   "metadata": {},
   "source": [
    "5 football clubs clusters"
   ]
  },
  {
   "cell_type": "code",
   "execution_count": 209,
   "metadata": {},
   "outputs": [
    {
     "data": {
      "text/plain": [
       "<matplotlib.axes._subplots.AxesSubplot at 0x61dbe3978>"
      ]
     },
     "execution_count": 209,
     "metadata": {},
     "output_type": "execute_result"
    },
    {
     "data": {
      "image/png": "[encoded data removed]",
      "text/plain": [
       "<matplotlib.figure.Figure at 0x61dd042b0>"
      ]
     },
     "metadata": {},
     "output_type": "display_data"
    }
   ],
   "source": [
    "table.plot.scatter(x='Losts', y='Value', c=colors5)"
   ]
  }
 ],
 "metadata": {
  "kernelspec": {
   "display_name": "Python 3",
   "language": "python",
   "name": "python3"
  },
  "language_info": {
   "codemirror_mode": {
    "name": "ipython",
    "version": 3
   },
   "file_extension": ".py",
   "mimetype": "text/x-python",
   "name": "python",
   "nbconvert_exporter": "python",
   "pygments_lexer": "ipython3",
   "version": "3.6.4"
  }
 },
 "nbformat": 4,
 "nbformat_minor": 2
}
